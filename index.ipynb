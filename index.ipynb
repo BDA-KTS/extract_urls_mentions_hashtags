{
 "cells": [
  {
   "cell_type": "markdown",
   "id": "d3ddc42e-ae7c-412a-957a-5c75e32e21e3",
   "metadata": {},
   "source": [
    "# Extract Entities (URLs, Mentions, Hashtags)"
   ]
  },
  {
   "cell_type": "markdown",
   "id": "d1a235fd-f844-4d21-ac65-13cdde98f9ee",
   "metadata": {},
   "source": [
    "The method extracts mentions, hashtags, cashtags, URLs, quoted texts, punctuations, punctuation emphasis, all caps, negations, "
   ]
  },
  {
   "cell_type": "code",
   "execution_count": 1,
   "id": "57030feb-7a78-4be0-b529-4b61be08457c",
   "metadata": {},
   "outputs": [],
   "source": [
    "from entity_extractor import extract_entities\n",
    "import pandas as pd"
   ]
  },
  {
   "cell_type": "code",
   "execution_count": 2,
   "id": "ff0bee72-98f9-42ff-9fa9-efb04f72d1c7",
   "metadata": {},
   "outputs": [],
   "source": [
    "# read data\n",
    "\n",
    "input_filepath = 'data/input_social_posts.csv'\n",
    "output_filepath = 'data/output_posts_with_entities.csv'\n",
    "\n",
    "df_posts = pd.read_csv(input_filepath, encoding=\"utf-8\")"
   ]
  },
  {
   "cell_type": "code",
   "execution_count": 3,
   "id": "03a8fb5d-c96c-45ac-8cd2-e33875f1e487",
   "metadata": {},
   "outputs": [
    {
     "data": {
      "application/vnd.microsoft.datawrangler.viewer.v0+json": {
       "columns": [
        {
         "name": "index",
         "rawType": "int64",
         "type": "integer"
        },
        {
         "name": "Posts",
         "rawType": "object",
         "type": "string"
        }
       ],
       "ref": "1ca06c4e-df85-4313-ae4f-1c133d3b8ed2",
       "rows": [
        [
         "0",
         "@bob@infosec.exchange #Crypto €BMW \"Let’s go!\" https://t.co/xyz123 😀"
        ],
        [
         "1",
         "#Startups 💡 $GOOG https://t.co/xyz123 @dave@mastodon.social 'Not sure about this'"
        ],
        [
         "2",
         "@bob@mastodon.social $AAPL 'This is amazing' 😀 #Crypto https://news.site/article"
        ],
        [
         "3",
         "@dave@infosec.exchange \"Exciting times ahead!\" https://t.co/xyz123 €BMW #AI 😀"
        ],
        [
         "4",
         "#AI @bob@mastodon.social €ETH 🚀 'Not sure about this' https://news.site/article"
        ]
       ],
       "shape": {
        "columns": 1,
        "rows": 5
       }
      },
      "text/html": [
       "<div>\n",
       "<style scoped>\n",
       "    .dataframe tbody tr th:only-of-type {\n",
       "        vertical-align: middle;\n",
       "    }\n",
       "\n",
       "    .dataframe tbody tr th {\n",
       "        vertical-align: top;\n",
       "    }\n",
       "\n",
       "    .dataframe thead th {\n",
       "        text-align: right;\n",
       "    }\n",
       "</style>\n",
       "<table border=\"1\" class=\"dataframe\">\n",
       "  <thead>\n",
       "    <tr style=\"text-align: right;\">\n",
       "      <th></th>\n",
       "      <th>Posts</th>\n",
       "    </tr>\n",
       "  </thead>\n",
       "  <tbody>\n",
       "    <tr>\n",
       "      <th>0</th>\n",
       "      <td>@bob@infosec.exchange #Crypto €BMW \"Let’s go!\"...</td>\n",
       "    </tr>\n",
       "    <tr>\n",
       "      <th>1</th>\n",
       "      <td>#Startups 💡 $GOOG https://t.co/xyz123 @dave@ma...</td>\n",
       "    </tr>\n",
       "    <tr>\n",
       "      <th>2</th>\n",
       "      <td>@bob@mastodon.social $AAPL 'This is amazing' 😀...</td>\n",
       "    </tr>\n",
       "    <tr>\n",
       "      <th>3</th>\n",
       "      <td>@dave@infosec.exchange \"Exciting times ahead!\"...</td>\n",
       "    </tr>\n",
       "    <tr>\n",
       "      <th>4</th>\n",
       "      <td>#AI @bob@mastodon.social €ETH 🚀 'Not sure abou...</td>\n",
       "    </tr>\n",
       "  </tbody>\n",
       "</table>\n",
       "</div>"
      ],
      "text/plain": [
       "                                               Posts\n",
       "0  @bob@infosec.exchange #Crypto €BMW \"Let’s go!\"...\n",
       "1  #Startups 💡 $GOOG https://t.co/xyz123 @dave@ma...\n",
       "2  @bob@mastodon.social $AAPL 'This is amazing' 😀...\n",
       "3  @dave@infosec.exchange \"Exciting times ahead!\"...\n",
       "4  #AI @bob@mastodon.social €ETH 🚀 'Not sure abou..."
      ]
     },
     "execution_count": 3,
     "metadata": {},
     "output_type": "execute_result"
    }
   ],
   "source": [
    "df_posts.head()"
   ]
  },
  {
   "cell_type": "code",
   "execution_count": 4,
   "id": "665937bc-81c1-41bb-871f-01a912a11473",
   "metadata": {},
   "outputs": [],
   "source": [
    "# extract entities\n",
    "ls_posts = df_posts[\"Posts\"].astype(str).tolist()\n",
    "\n",
    "df_extracted_entities = extract_entities(ls_posts)\n"
   ]
  },
  {
   "cell_type": "code",
   "execution_count": 5,
   "id": "765ed98f-29ec-4e85-b87c-c2ab5646de9f",
   "metadata": {},
   "outputs": [
    {
     "data": {
      "application/vnd.microsoft.datawrangler.viewer.v0+json": {
       "columns": [
        {
         "name": "index",
         "rawType": "int64",
         "type": "integer"
        },
        {
         "name": "Posts",
         "rawType": "object",
         "type": "string"
        },
        {
         "name": "Mentions",
         "rawType": "object",
         "type": "unknown"
        },
        {
         "name": "Hashtags",
         "rawType": "object",
         "type": "unknown"
        },
        {
         "name": "Cashtags",
         "rawType": "object",
         "type": "unknown"
        },
        {
         "name": "URLs",
         "rawType": "object",
         "type": "unknown"
        },
        {
         "name": "Quoted_text",
         "rawType": "object",
         "type": "unknown"
        },
        {
         "name": "Punctuations",
         "rawType": "object",
         "type": "unknown"
        },
        {
         "name": "Punctuation_emphasis",
         "rawType": "object",
         "type": "unknown"
        },
        {
         "name": "All_caps",
         "rawType": "object",
         "type": "unknown"
        },
        {
         "name": "Negations",
         "rawType": "object",
         "type": "unknown"
        },
        {
         "name": "Time_expressions",
         "rawType": "object",
         "type": "unknown"
        },
        {
         "name": "Emojis",
         "rawType": "object",
         "type": "unknown"
        }
       ],
       "ref": "37a13730-c92a-41ca-bd12-82f53d28008b",
       "rows": [
        [
         "0",
         "@bob@infosec.exchange #Crypto €BMW \"Let’s go!\" https://t.co/xyz123 😀",
         "['@bob@infosec.exchange']",
         "['#Crypto']",
         "['€BMW']",
         "['https://t.co/xyz123']",
         "['\"Let’s go!\"']",
         "['@', '@', '.', '#', '€', '\"', '’', '!', '\"', ':', '/', '/', '.', '/', '😀']",
         "[]",
         "['BMW']",
         "[]",
         "[]",
         "['😀']"
        ],
        [
         "1",
         "#Startups 💡 $GOOG https://t.co/xyz123 @dave@mastodon.social 'Not sure about this'",
         "['@dave@mastodon.social']",
         "['#Startups']",
         "['$GOOG']",
         "['https://t.co/xyz123']",
         "[\"'Not sure about this'\"]",
         "['#', '💡', '$', ':', '/', '/', '.', '/', '@', '@', '.', \"'\", \"'\"]",
         "[]",
         "['GOOG']",
         "['not']",
         "[]",
         "['💡']"
        ],
        [
         "2",
         "@bob@mastodon.social $AAPL 'This is amazing' 😀 #Crypto https://news.site/article",
         "['@bob@mastodon.social']",
         "['#Crypto']",
         "['$AAPL']",
         "['https://news.site/article']",
         "[\"'This is amazing'\"]",
         "['@', '@', '.', '$', \"'\", \"'\", '😀', '#', ':', '/', '/', '.', '/']",
         "[]",
         "['AAPL']",
         "[]",
         "[]",
         "['😀']"
        ],
        [
         "3",
         "@dave@infosec.exchange \"Exciting times ahead!\" https://t.co/xyz123 €BMW #AI 😀",
         "['@dave@infosec.exchange']",
         "['#AI']",
         "['€BMW']",
         "['https://t.co/xyz123']",
         "['\"Exciting times ahead!\"']",
         "['@', '@', '.', '\"', '!', '\"', ':', '/', '/', '.', '/', '€', '#', '😀']",
         "[]",
         "['BMW', 'AI']",
         "[]",
         "['times']",
         "['😀']"
        ],
        [
         "4",
         "#AI @bob@mastodon.social €ETH 🚀 'Not sure about this' https://news.site/article",
         "['@bob@mastodon.social']",
         "['#AI']",
         "['€ETH']",
         "['https://news.site/article']",
         "[\"'Not sure about this'\"]",
         "['#', '@', '@', '.', '€', '🚀', \"'\", \"'\", ':', '/', '/', '.', '/']",
         "[]",
         "['AI', 'ETH']",
         "['not']",
         "[]",
         "['🚀']"
        ]
       ],
       "shape": {
        "columns": 12,
        "rows": 5
       }
      },
      "text/html": [
       "<div>\n",
       "<style scoped>\n",
       "    .dataframe tbody tr th:only-of-type {\n",
       "        vertical-align: middle;\n",
       "    }\n",
       "\n",
       "    .dataframe tbody tr th {\n",
       "        vertical-align: top;\n",
       "    }\n",
       "\n",
       "    .dataframe thead th {\n",
       "        text-align: right;\n",
       "    }\n",
       "</style>\n",
       "<table border=\"1\" class=\"dataframe\">\n",
       "  <thead>\n",
       "    <tr style=\"text-align: right;\">\n",
       "      <th></th>\n",
       "      <th>Posts</th>\n",
       "      <th>Mentions</th>\n",
       "      <th>Hashtags</th>\n",
       "      <th>Cashtags</th>\n",
       "      <th>URLs</th>\n",
       "      <th>Quoted_text</th>\n",
       "      <th>Punctuations</th>\n",
       "      <th>Punctuation_emphasis</th>\n",
       "      <th>All_caps</th>\n",
       "      <th>Negations</th>\n",
       "      <th>Time_expressions</th>\n",
       "      <th>Emojis</th>\n",
       "    </tr>\n",
       "  </thead>\n",
       "  <tbody>\n",
       "    <tr>\n",
       "      <th>0</th>\n",
       "      <td>@bob@infosec.exchange #Crypto €BMW \"Let’s go!\"...</td>\n",
       "      <td>[@bob@infosec.exchange]</td>\n",
       "      <td>[#Crypto]</td>\n",
       "      <td>[€BMW]</td>\n",
       "      <td>[https://t.co/xyz123]</td>\n",
       "      <td>[\"Let’s go!\"]</td>\n",
       "      <td>[@, @, ., #, €, \", ’, !, \", :, /, /, ., /, 😀]</td>\n",
       "      <td>[]</td>\n",
       "      <td>[BMW]</td>\n",
       "      <td>[]</td>\n",
       "      <td>[]</td>\n",
       "      <td>[😀]</td>\n",
       "    </tr>\n",
       "    <tr>\n",
       "      <th>1</th>\n",
       "      <td>#Startups 💡 $GOOG https://t.co/xyz123 @dave@ma...</td>\n",
       "      <td>[@dave@mastodon.social]</td>\n",
       "      <td>[#Startups]</td>\n",
       "      <td>[$GOOG]</td>\n",
       "      <td>[https://t.co/xyz123]</td>\n",
       "      <td>['Not sure about this']</td>\n",
       "      <td>[#, 💡, $, :, /, /, ., /, @, @, ., ', ']</td>\n",
       "      <td>[]</td>\n",
       "      <td>[GOOG]</td>\n",
       "      <td>[not]</td>\n",
       "      <td>[]</td>\n",
       "      <td>[💡]</td>\n",
       "    </tr>\n",
       "    <tr>\n",
       "      <th>2</th>\n",
       "      <td>@bob@mastodon.social $AAPL 'This is amazing' 😀...</td>\n",
       "      <td>[@bob@mastodon.social]</td>\n",
       "      <td>[#Crypto]</td>\n",
       "      <td>[$AAPL]</td>\n",
       "      <td>[https://news.site/article]</td>\n",
       "      <td>['This is amazing']</td>\n",
       "      <td>[@, @, ., $, ', ', 😀, #, :, /, /, ., /]</td>\n",
       "      <td>[]</td>\n",
       "      <td>[AAPL]</td>\n",
       "      <td>[]</td>\n",
       "      <td>[]</td>\n",
       "      <td>[😀]</td>\n",
       "    </tr>\n",
       "    <tr>\n",
       "      <th>3</th>\n",
       "      <td>@dave@infosec.exchange \"Exciting times ahead!\"...</td>\n",
       "      <td>[@dave@infosec.exchange]</td>\n",
       "      <td>[#AI]</td>\n",
       "      <td>[€BMW]</td>\n",
       "      <td>[https://t.co/xyz123]</td>\n",
       "      <td>[\"Exciting times ahead!\"]</td>\n",
       "      <td>[@, @, ., \", !, \", :, /, /, ., /, €, #, 😀]</td>\n",
       "      <td>[]</td>\n",
       "      <td>[BMW, AI]</td>\n",
       "      <td>[]</td>\n",
       "      <td>[times]</td>\n",
       "      <td>[😀]</td>\n",
       "    </tr>\n",
       "    <tr>\n",
       "      <th>4</th>\n",
       "      <td>#AI @bob@mastodon.social €ETH 🚀 'Not sure abou...</td>\n",
       "      <td>[@bob@mastodon.social]</td>\n",
       "      <td>[#AI]</td>\n",
       "      <td>[€ETH]</td>\n",
       "      <td>[https://news.site/article]</td>\n",
       "      <td>['Not sure about this']</td>\n",
       "      <td>[#, @, @, ., €, 🚀, ', ', :, /, /, ., /]</td>\n",
       "      <td>[]</td>\n",
       "      <td>[AI, ETH]</td>\n",
       "      <td>[not]</td>\n",
       "      <td>[]</td>\n",
       "      <td>[🚀]</td>\n",
       "    </tr>\n",
       "  </tbody>\n",
       "</table>\n",
       "</div>"
      ],
      "text/plain": [
       "                                               Posts  \\\n",
       "0  @bob@infosec.exchange #Crypto €BMW \"Let’s go!\"...   \n",
       "1  #Startups 💡 $GOOG https://t.co/xyz123 @dave@ma...   \n",
       "2  @bob@mastodon.social $AAPL 'This is amazing' 😀...   \n",
       "3  @dave@infosec.exchange \"Exciting times ahead!\"...   \n",
       "4  #AI @bob@mastodon.social €ETH 🚀 'Not sure abou...   \n",
       "\n",
       "                   Mentions     Hashtags Cashtags  \\\n",
       "0   [@bob@infosec.exchange]    [#Crypto]   [€BMW]   \n",
       "1   [@dave@mastodon.social]  [#Startups]  [$GOOG]   \n",
       "2    [@bob@mastodon.social]    [#Crypto]  [$AAPL]   \n",
       "3  [@dave@infosec.exchange]        [#AI]   [€BMW]   \n",
       "4    [@bob@mastodon.social]        [#AI]   [€ETH]   \n",
       "\n",
       "                          URLs                Quoted_text  \\\n",
       "0        [https://t.co/xyz123]              [\"Let’s go!\"]   \n",
       "1        [https://t.co/xyz123]    ['Not sure about this']   \n",
       "2  [https://news.site/article]        ['This is amazing']   \n",
       "3        [https://t.co/xyz123]  [\"Exciting times ahead!\"]   \n",
       "4  [https://news.site/article]    ['Not sure about this']   \n",
       "\n",
       "                                    Punctuations Punctuation_emphasis  \\\n",
       "0  [@, @, ., #, €, \", ’, !, \", :, /, /, ., /, 😀]                   []   \n",
       "1        [#, 💡, $, :, /, /, ., /, @, @, ., ', ']                   []   \n",
       "2        [@, @, ., $, ', ', 😀, #, :, /, /, ., /]                   []   \n",
       "3     [@, @, ., \", !, \", :, /, /, ., /, €, #, 😀]                   []   \n",
       "4        [#, @, @, ., €, 🚀, ', ', :, /, /, ., /]                   []   \n",
       "\n",
       "    All_caps Negations Time_expressions Emojis  \n",
       "0      [BMW]        []               []    [😀]  \n",
       "1     [GOOG]     [not]               []    [💡]  \n",
       "2     [AAPL]        []               []    [😀]  \n",
       "3  [BMW, AI]        []          [times]    [😀]  \n",
       "4  [AI, ETH]     [not]               []    [🚀]  "
      ]
     },
     "execution_count": 5,
     "metadata": {},
     "output_type": "execute_result"
    }
   ],
   "source": [
    "df_extracted_entities.head()"
   ]
  },
  {
   "cell_type": "code",
   "execution_count": 6,
   "id": "680843ea-3209-42a0-ab67-2a0bdb47b256",
   "metadata": {},
   "outputs": [],
   "source": [
    "df_extracted_entities.to_csv(output_filepath, index = False)"
   ]
  }
 ],
 "metadata": {
  "kernelspec": {
   "display_name": "extract_urls_mentions_hashtags-4uE0TK8K",
   "language": "python",
   "name": "python3"
  },
  "language_info": {
   "codemirror_mode": {
    "name": "ipython",
    "version": 3
   },
   "file_extension": ".py",
   "mimetype": "text/x-python",
   "name": "python",
   "nbconvert_exporter": "python",
   "pygments_lexer": "ipython3",
   "version": "3.10.18"
  }
 },
 "nbformat": 4,
 "nbformat_minor": 5
}
