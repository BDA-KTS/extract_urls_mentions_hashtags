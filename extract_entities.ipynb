{
 "cells": [
  {
   "cell_type": "code",
   "execution_count": 6,
   "id": "986f3ca7-160c-4d05-aace-e5df56e89a83",
   "metadata": {},
   "outputs": [],
   "source": [
    "import re\n",
    "import emoji\n",
    "import json\n",
    "\n",
    "def extract_entities(text):\n",
    "    # Regular expressions for URLs, mentions, hashtags, and emojis\n",
    "    url_pattern = r\"https?://[^\\s]+\"\n",
    "    mention_pattern = r\"@\\w+\"\n",
    "    hashtag_pattern = r\"#\\w+\"\n",
    "    emoji_pattern = emoji.get_emoji_regexp()\n",
    "    \n",
    "    # Extract entities\n",
    "    urls = re.findall(url_pattern, text)\n",
    "    mentions = re.findall(mention_pattern, text)\n",
    "    hashtags = re.findall(hashtag_pattern, text)\n",
    "    emojis = emoji_pattern.findall(text)\n",
    "    \n",
    "    return {\n",
    "        \"urls\": urls,\n",
    "        \"mentions\": mentions,\n",
    "        \"hashtags\": hashtags,\n",
    "        \"emojis\": emojis\n",
    "    }\n",
    "\n"
   ]
  },
  {
   "cell_type": "code",
   "execution_count": 18,
   "id": "18649940-d80f-4221-be6f-85f41196a70c",
   "metadata": {},
   "outputs": [
    {
     "name": "stdout",
     "output_type": "stream",
     "text": [
      "{'docs': 10, 'entities': [{'doc-0': {'urls': ['https://mlblog.example.com'], 'mentions': ['@techguru'], 'hashtags': ['#MachineLearning'], 'emojis': ['🔥']}}, {'doc-1': {'urls': [], 'mentions': ['@fitness_pro'], 'hashtags': ['#FitnessGoals', '#StayHealthy'], 'emojis': ['💪']}}, {'doc-2': {'urls': ['https://travel.example.com'], 'mentions': ['@explore_worldwide'], 'hashtags': ['#TravelMore'], 'emojis': ['🏖']}}, {'doc-3': {'urls': ['https://funny.example.com'], 'mentions': ['@memelord'], 'hashtags': ['#Comedy', '#LOL'], 'emojis': ['😂']}}, {'doc-4': {'urls': ['https://cookwithus.example.com\"'], 'mentions': ['@recipe_magic'], 'hashtags': ['#HomeChef', '#YummyFood'], 'emojis': ['🍳']}}, {'doc-5': {'urls': [], 'mentions': ['@wellnessguru'], 'hashtags': ['#Mindfulness', '#Relaxation'], 'emojis': ['🧘\\u200d♂️']}}, {'doc-6': {'urls': ['https://gameupdate.example.com'], 'mentions': ['@gamezone'], 'hashtags': ['#GamingLife'], 'emojis': ['🎮']}}, {'doc-7': {'urls': ['https://weekendfun.example.com'], 'mentions': ['@weekender_vibes'], 'hashtags': ['#GoodVibesOnly'], 'emojis': ['🎉']}}, {'doc-8': {'urls': ['https://saveearth.example.com\"'], 'mentions': ['@environment_care'], 'hashtags': ['#ClimateChange', '#GoGreen'], 'emojis': ['🌍']}}, {'doc-9': {'urls': ['https://readmore.example.com\"'], 'mentions': ['@bookclub'], 'hashtags': ['#BookLovers', '#MustRead'], 'emojis': ['📚']}}]}\n"
     ]
    }
   ],
   "source": [
    "#Load data\n",
    "file = open('data/input-data.txt', 'r', encoding='utf-8')\n",
    "posts = file.read()\n",
    "file.close()\n",
    "ls_posts = posts.split('\\n')\n",
    "\n",
    "#extract entities\n",
    "ls_extracted_entities = [extract_entities(post) for post in ls_posts]\n",
    "dc_extracted_entities = {}\n",
    "dc_extracted_entities['docs'] = len(ls_extracted_entities)\n",
    "dc_extracted_entities['entities'] = []\n",
    "for i in range(len(ls_extracted_entities)):\n",
    "    item = {}\n",
    "    item['doc-'+ str(i)] = ls_extracted_entities[i]\n",
    "    dc_extracted_entities['entities'].append(item)\n",
    "\n",
    "#write to output file\n",
    "print(dc_extracted_entities)\n",
    "file = open('data/extracted-entities.json', 'w', encoding='utf-8')\n",
    "file.write(json.dumps(dc_extracted_entities))\n",
    "file.close()"
   ]
  },
  {
   "cell_type": "code",
   "execution_count": null,
   "id": "8de3443c-2ba6-44e2-93ce-87e79a031933",
   "metadata": {},
   "outputs": [],
   "source": []
  }
 ],
 "metadata": {
  "kernelspec": {
   "display_name": "Python 3 (ipykernel)",
   "language": "python",
   "name": "python3"
  },
  "language_info": {
   "codemirror_mode": {
    "name": "ipython",
    "version": 3
   },
   "file_extension": ".py",
   "mimetype": "text/x-python",
   "name": "python",
   "nbconvert_exporter": "python",
   "pygments_lexer": "ipython3",
   "version": "3.13.0"
  }
 },
 "nbformat": 4,
 "nbformat_minor": 5
}
